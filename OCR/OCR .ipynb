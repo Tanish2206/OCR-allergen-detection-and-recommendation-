{
 "cells": [
  {
   "cell_type": "code",
   "execution_count": 78,
   "id": "3f8548a4",
   "metadata": {},
   "outputs": [],
   "source": [
    "import pytesseract\n",
    "\n",
    "# Set the path to the Tesseract executable\n",
    "pytesseract.pytesseract.tesseract_cmd = r'C:\\\\Program Files\\\\Tesseract-OCR\\\\tesseract.exe'"
   ]
  },
  {
   "cell_type": "code",
   "execution_count": 79,
   "id": "defad05f",
   "metadata": {},
   "outputs": [],
   "source": [
    "# OCR on original image uploaded by user\n",
    "import cv2 as cv\n",
    "import numpy as np\n",
    "from PIL import Image\n",
    "import pytesseract\n",
    "\n",
    "def extract_text_from_image(image):\n",
    "    custom_config = r'--oem 3 -l eng'\n",
    "    extractedText = pytesseract.image_to_string(image,config=custom_config)\n"
   ]
  },
  {
   "cell_type": "code",
   "execution_count": 80,
   "id": "7d2c6fbd",
   "metadata": {},
   "outputs": [],
   "source": [
    "import cv2\n",
    "import numpy as np\n",
    "\n",
    "# get grayscale image\n",
    "\n",
    "def get_grayscale(image_path):\n",
    "    img = cv2.imread(image_path)\n",
    "    img_hsv = cv2.cvtColor(img, cv2.COLOR_RGB2HSV)\n",
    "    return img_hsv\n",
    "    \n",
    "# noise removal\n",
    "def remove_noise(image_path):\n",
    "    img = cv2.imread(image_path)\n",
    "    image_rn=cv2.medianBlur(img,5)\n",
    "    return image_rn\n",
    "    \n",
    "    #return image_rn\n",
    " \n",
    "'''threshold'''\n",
    "def thresholding(image_path):\n",
    "    image = cv2.imread(image_path)\n",
    "    ret, thresh1 = cv2.threshold(image, 120, 255, cv2.THRESH_BINARY) \n",
    "    #preprocessed_image=cv2.threshold(img, 0, 255, cv2.THRESH_BINARY + cv2.THRESH_OTSU)[1]\n",
    "    return thresh1"
   ]
  },
  {
   "cell_type": "code",
   "execution_count": 81,
   "id": "2645f413",
   "metadata": {},
   "outputs": [],
   "source": [
    "def extractTextFromImage(image_path):\n",
    "    custom_config = r'--oem 3 -l eng'\n",
    "    extractedText = pytesseract.image_to_string(image_path,config=custom_config)\n",
    "    return extractedText"
   ]
  },
  {
   "cell_type": "code",
   "execution_count": 82,
   "id": "796ba94e",
   "metadata": {},
   "outputs": [],
   "source": [
    "import cv2 as cv\n",
    "import pytesseract\n",
    "import base64\n",
    "from PIL import Image, ImageOps\n",
    "import numpy as np\n",
    "\n",
    "\n",
    "def finalfunc(image, image_path):\n",
    "    \n",
    "    # Preprocess and compress the image\n",
    "    #compressed_image = compress_image(image_path, target_size=1024 * 1024)\n",
    "    gray = get_grayscale(image)\n",
    "    \n",
    "    rn= remove_noise(image)\n",
    "    thresh= thresholding(image)\n",
    "    \n",
    "    \n",
    "    # OCR on compressed image\n",
    "    extracted_text_preprocessed = extractTextFromImage(image_path)\n",
    "    original_image_text=extract_text_from_image(image_path)\n",
    "\n",
    "    # Choose the result with better OCR accuracy\n",
    "    chosen_source, chosen_text = (\"Original Image\", original_image_text) if original_image_text and (not extracted_text_preprocessed or len(original_image_text) > len(extracted_text_preprocessed)) else (\"Preprocessed Image\", extracted_text_preprocessed)\n",
    "\n",
    "    return chosen_text\n"
   ]
  },
  {
   "cell_type": "code",
   "execution_count": null,
   "id": "9e03c833",
   "metadata": {},
   "outputs": [],
   "source": []
  },
  {
   "cell_type": "code",
   "execution_count": null,
   "id": "a11a42fb",
   "metadata": {},
   "outputs": [],
   "source": []
  },
  {
   "cell_type": "code",
   "execution_count": null,
   "id": "e9873d44",
   "metadata": {},
   "outputs": [],
   "source": []
  },
  {
   "cell_type": "code",
   "execution_count": null,
   "id": "cbb76d63",
   "metadata": {},
   "outputs": [],
   "source": []
  }
 ],
 "metadata": {
  "kernelspec": {
   "display_name": "Python 3 (ipykernel)",
   "language": "python",
   "name": "python3"
  },
  "language_info": {
   "codemirror_mode": {
    "name": "ipython",
    "version": 3
   },
   "file_extension": ".py",
   "mimetype": "text/x-python",
   "name": "python",
   "nbconvert_exporter": "python",
   "pygments_lexer": "ipython3",
   "version": "3.11.4"
  }
 },
 "nbformat": 4,
 "nbformat_minor": 5
}
